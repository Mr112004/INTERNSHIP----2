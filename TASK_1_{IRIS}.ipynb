{
  "nbformat": 4,
  "nbformat_minor": 0,
  "metadata": {
    "colab": {
      "provenance": [],
      "authorship_tag": "ABX9TyP+X4zbZJOUGQhqHaQnaAwC",
      "include_colab_link": true
    },
    "kernelspec": {
      "name": "python3",
      "display_name": "Python 3"
    },
    "language_info": {
      "name": "python"
    }
  },
  "cells": [
    {
      "cell_type": "markdown",
      "metadata": {
        "id": "view-in-github",
        "colab_type": "text"
      },
      "source": [
        "<a href=\"https://colab.research.google.com/github/Mr112004/INTERNSHIP----2/blob/main/TASK_1_%7BIRIS%7D.ipynb\" target=\"_parent\"><img src=\"https://colab.research.google.com/assets/colab-badge.svg\" alt=\"Open In Colab\"/></a>"
      ]
    },
    {
      "cell_type": "code",
      "execution_count": 5,
      "metadata": {
        "colab": {
          "base_uri": "https://localhost:8080/"
        },
        "id": "4CMhE4h7lvgL",
        "outputId": "39ccbca5-e7a9-411e-9f38-5da47028b559"
      },
      "outputs": [
        {
          "output_type": "stream",
          "name": "stdout",
          "text": [
            "\u001b[1mCross-Validation Accuracy Scores:\u001b[0m [0.97 0.97 0.93 0.97 1.  ]\n",
            "\u001b[1mMean Accuracy:\u001b[0m 0.97\n",
            "\u001b[1mPredicted species:\u001b[0m setosa\n",
            "\n",
            "\u001b[1mClassification Report:\u001b[0m\n",
            "+----------------------+------------+------------+------------+------------+\n",
            "| Class                | Precision  | Recall     | F1-score   | Support    |\n",
            "+----------------------+------------+------------+------------+------------+\n",
            "| setosa               | 1.00       | 1.00       | 1.00       | 14         |\n",
            "| versicolor           | 0.94       | 0.94       | 0.94       | 18         |\n",
            "| virginica            | 0.92       | 0.92       | 0.92       | 13         |\n",
            "| accuracy             | 0.96       | 0.96       | 0.96       | 1          |\n",
            "| macro avg            | 0.96       | 0.96       | 0.96       | 45         |\n",
            "| weighted avg         | 0.96       | 0.96       | 0.96       | 45         |\n",
            "+----------------------+------------+------------+------------+------------+\n"
          ]
        }
      ],
      "source": [
        "import pandas as pd\n",
        "import numpy as np\n",
        "from sklearn.model_selection import train_test_split, cross_val_score\n",
        "from sklearn.ensemble import RandomForestClassifier\n",
        "from sklearn.datasets import load_iris\n",
        "from sklearn.metrics import classification_report\n",
        "\n",
        "# Load the dataset\n",
        "iris = load_iris()\n",
        "X = pd.DataFrame(iris.data, columns=iris.feature_names)\n",
        "y = pd.Series(iris.target)\n",
        "\n",
        "# Split the data\n",
        "X_train, X_test, y_train, y_test = train_test_split(X, y, test_size=0.3, random_state=1)\n",
        "\n",
        "# Create and train the model\n",
        "model = RandomForestClassifier(random_state=1)\n",
        "model.fit(X_train, y_train)\n",
        "y_pred = model.predict(X_test)\n",
        "\n",
        "# Cross-validation accuracy\n",
        "cv_scores = cross_val_score(model, X, y, cv=5)\n",
        "sample = pd.DataFrame([X.iloc[0]])\n",
        "prediction = model.predict(sample)\n",
        "\n",
        "# Output\n",
        "print(\"\\033[1mCross-Validation Accuracy Scores:\\033[0m\", np.round(cv_scores, 2))\n",
        "print(\"\\033[1mMean Accuracy:\\033[0m\", round(cv_scores.mean(), 2))\n",
        "print(\"\\033[1mPredicted species:\\033[0m\", iris.target_names[prediction[0]])\n",
        "\n",
        "# Classification report\n",
        "report = classification_report(y_test, y_pred, target_names=iris.target_names, output_dict=True)\n",
        "report_df = pd.DataFrame(report).transpose()\n",
        "\n",
        "# Format report with lines\n",
        "print(\"\\n\\033[1mClassification Report:\\033[0m\")\n",
        "print(\"+----------------------+------------+------------+------------+------------+\")\n",
        "print(\"| {:<20} | {:<10} | {:<10} | {:<10} | {:<10} |\".format(\"Class\", \"Precision\", \"Recall\", \"F1-score\", \"Support\"))\n",
        "print(\"+----------------------+------------+------------+------------+------------+\")\n",
        "for index, row in report_df.iterrows():\n",
        "    print(\"| {:<20} | {:<10.2f} | {:<10.2f} | {:<10.2f} | {:<10.0f} |\".format(index, row['precision'], row['recall'], row['f1-score'], row['support']))\n",
        "print(\"+----------------------+------------+------------+------------+------------+\")\n",
        "\n"
      ]
    }
  ]
}