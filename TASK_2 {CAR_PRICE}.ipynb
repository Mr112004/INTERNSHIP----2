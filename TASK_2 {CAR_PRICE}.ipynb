{
  "cells": [
    {
      "cell_type": "markdown",
      "metadata": {
        "id": "view-in-github",
        "colab_type": "text"
      },
      "source": [
        "<a href=\"https://colab.research.google.com/github/Mr112004/INTERNSHIP----2/blob/main/TASK_2%20%7BCAR_PRICE%7D.ipynb\" target=\"_parent\"><img src=\"https://colab.research.google.com/assets/colab-badge.svg\" alt=\"Open In Colab\"/></a>"
      ]
    },
    {
      "cell_type": "code",
      "execution_count": 8,
      "metadata": {
        "colab": {
          "base_uri": "https://localhost:8080/"
        },
        "id": "v4km7ans0mdN",
        "outputId": "160cb988-c057-454c-aa84-8aef95479eb5"
      },
      "outputs": [
        {
          "output_type": "stream",
          "name": "stdout",
          "text": [
            "Enter the Car Name: SWIFT\n",
            "Car Details Found:\n",
            "Car Name: swift\n",
            "Year: 2014\n",
            "Present Price: 6.87 lakhs\n",
            "Kilometers Driven: 42450\n",
            "Fuel Type: Diesel\n",
            "Selling Type: Dealer\n",
            "Transmission: Manual\n",
            "Predicted Selling Price: ₹ 6.2 lakhs\n"
          ]
        }
      ],
      "source": [
        "import pandas as pd\n",
        "from sklearn.model_selection import train_test_split\n",
        "from sklearn.preprocessing import StandardScaler, OneHotEncoder\n",
        "from sklearn.linear_model import LinearRegression\n",
        "from sklearn.compose import ColumnTransformer\n",
        "from sklearn.pipeline import Pipeline\n",
        "\n",
        "df = pd.read_csv('/content/car.csv')\n",
        "full_df = df.copy()\n",
        "\n",
        "X = df.drop(columns=['Selling_Price', 'Car_Name'])\n",
        "y = df['Selling_Price']\n",
        "\n",
        "categorical_cols = ['Fuel_Type', 'Selling_type', 'Transmission']\n",
        "numeric_cols = ['Year', 'Present_Price', 'Driven_kms']\n",
        "\n",
        "numeric_transformer = Pipeline([('scaler', StandardScaler())])\n",
        "categorical_transformer = Pipeline([('onehot', OneHotEncoder(drop='first', handle_unknown='ignore'))])\n",
        "\n",
        "preprocessor = ColumnTransformer([\n",
        "    ('num', numeric_transformer, numeric_cols),\n",
        "    ('cat', categorical_transformer, categorical_cols)\n",
        "])\n",
        "\n",
        "model = Pipeline([\n",
        "    ('preprocessor', preprocessor),\n",
        "    ('regressor', LinearRegression())\n",
        "])\n",
        "\n",
        "X_train, X_test, y_train, y_test = train_test_split(X, y, test_size=0.2, random_state=42)\n",
        "model.fit(X_train, y_train)\n",
        "\n",
        "car_name_input = input(\"Enter the Car Name: \").lower()\n",
        "matches = full_df[full_df['Car_Name'].str.lower().str.contains(car_name_input)]\n",
        "\n",
        "if matches.empty:\n",
        "    print(\"No matching car found.\")\n",
        "else:\n",
        "    selected_car = matches.iloc[0]\n",
        "    print(\"Car Details Found:\")\n",
        "    print(\"Car Name:\", selected_car['Car_Name'])\n",
        "    print(\"Year:\", selected_car['Year'])\n",
        "    print(\"Present Price:\", selected_car['Present_Price'], \"lakhs\")\n",
        "    print(\"Kilometers Driven:\", selected_car['Driven_kms'])\n",
        "    print(\"Fuel Type:\", selected_car['Fuel_Type'])\n",
        "    print(\"Selling Type:\", selected_car['Selling_type'])\n",
        "    print(\"Transmission:\", selected_car['Transmission'])\n",
        "\n",
        "    input_data = pd.DataFrame([[\n",
        "        selected_car['Year'],\n",
        "        selected_car['Present_Price'],\n",
        "        selected_car['Driven_kms'],\n",
        "        selected_car['Fuel_Type'],\n",
        "        selected_car['Selling_type'],\n",
        "        selected_car['Transmission']\n",
        "    ]], columns=['Year', 'Present_Price', 'Driven_kms', 'Fuel_Type', 'Selling_type', 'Transmission'])\n",
        "\n",
        "    predicted_price = model.predict(input_data)[0]\n",
        "    print(\"Predicted Selling Price: ₹\", round(predicted_price, 2), \"lakhs\")\n"
      ]
    },
    {
      "cell_type": "markdown",
      "source": [
        "# New Section"
      ],
      "metadata": {
        "id": "wK-xl_rt6r_q"
      }
    }
  ],
  "metadata": {
    "colab": {
      "provenance": [],
      "authorship_tag": "ABX9TyO8mTbIkJEkxZIBxe+TS+so",
      "include_colab_link": true
    },
    "kernelspec": {
      "display_name": "Python 3",
      "name": "python3"
    },
    "language_info": {
      "name": "python"
    }
  },
  "nbformat": 4,
  "nbformat_minor": 0
}