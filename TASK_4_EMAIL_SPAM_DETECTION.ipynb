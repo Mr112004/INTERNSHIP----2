{
  "nbformat": 4,
  "nbformat_minor": 0,
  "metadata": {
    "colab": {
      "provenance": [],
      "authorship_tag": "ABX9TyMP3kbb+a8vt8dRA2C8Bfeb",
      "include_colab_link": true
    },
    "kernelspec": {
      "name": "python3",
      "display_name": "Python 3"
    },
    "language_info": {
      "name": "python"
    }
  },
  "cells": [
    {
      "cell_type": "markdown",
      "metadata": {
        "id": "view-in-github",
        "colab_type": "text"
      },
      "source": [
        "<a href=\"https://colab.research.google.com/github/Mr112004/INTERNSHIP----2/blob/main/TASK_4_EMAIL_SPAM_DETECTION.ipynb\" target=\"_parent\"><img src=\"https://colab.research.google.com/assets/colab-badge.svg\" alt=\"Open In Colab\"/></a>"
      ]
    },
    {
      "cell_type": "code",
      "execution_count": 1,
      "metadata": {
        "colab": {
          "base_uri": "https://localhost:8080/"
        },
        "id": "5vkzN3f5yyih",
        "outputId": "74f04f66-de65-45f1-d4f6-1b29b5a953ad"
      },
      "outputs": [
        {
          "output_type": "stream",
          "name": "stdout",
          "text": [
            "--- Model Performance ---\n",
            "Accuracy on training data: 0.9693\n",
            "Accuracy on test data: 0.9525\n",
            "\n",
            "--- Classification Report ---\n",
            "                precision    recall  f1-score   support\n",
            "\n",
            "Ham (Not Spam)       0.95      1.00      0.97       965\n",
            "          Spam       0.97      0.67      0.79       150\n",
            "\n",
            "      accuracy                           0.95      1115\n",
            "     macro avg       0.96      0.83      0.88      1115\n",
            "  weighted avg       0.95      0.95      0.95      1115\n",
            "\n",
            "--- Confusion Matrix ---\n",
            "             Predicted Ham  Predicted Spam\n",
            "Actual Ham             962               3\n",
            "Actual Spam             50             100\n",
            "\n",
            "==================================================\n",
            "\n",
            "--- Spam Detector in Action ---\n",
            "Email: 'Congratulations! You've won a $1000 Walmart gift card. Go to http://bit.ly/scam-link to claim now.'\n",
            "Prediction: This looks like SPAM.\n",
            "\n",
            "Email: 'Hey, are we still on for the meeting tomorrow at 2 PM? Let me know.'\n",
            "Prediction: This looks like a legitimate email (HAM).\n",
            "\n",
            "Email: 'URGENT: Your account has been compromised. Please verify your details immediately to avoid suspension.'\n",
            "Prediction: This looks like a legitimate email (HAM).\n",
            "\n"
          ]
        }
      ],
      "source": [
        "import pandas as pd\n",
        "from sklearn.model_selection import train_test_split\n",
        "from sklearn.feature_extraction.text import TfidfVectorizer\n",
        "from sklearn.linear_model import LogisticRegression\n",
        "from sklearn.metrics import accuracy_score, confusion_matrix, classification_report\n",
        "\n",
        "try:\n",
        "    df = pd.read_csv('spam.csv', encoding='latin-1')\n",
        "except FileNotFoundError:\n",
        "    print(\"Error: 'spam.csv' not found. Please make sure the CSV file is in the same directory as the script.\")\n",
        "    exit()\n",
        "\n",
        "df.drop(columns=['Unnamed: 2', 'Unnamed: 3', 'Unnamed: 4'], inplace=True, errors='ignore')\n",
        "df.rename(columns={'v1': 'Category', 'v2': 'Message'}, inplace=True)\n",
        "df['Category'] = df['Category'].map({'ham': 0, 'spam': 1})\n",
        "\n",
        "X = df['Message']\n",
        "y = df['Category']\n",
        "\n",
        "X_train, X_test, y_train, y_test = train_test_split(X, y, test_size=0.2, random_state=42)\n",
        "\n",
        "vectorizer = TfidfVectorizer(min_df=1, stop_words='english', lowercase=True)\n",
        "\n",
        "X_train_features = vectorizer.fit_transform(X_train)\n",
        "X_test_features = vectorizer.transform(X_test)\n",
        "\n",
        "model = LogisticRegression()\n",
        "model.fit(X_train_features, y_train)\n",
        "\n",
        "prediction_on_train_data = model.predict(X_train_features)\n",
        "accuracy_on_train_data = accuracy_score(y_train, prediction_on_train_data)\n",
        "\n",
        "prediction_on_test_data = model.predict(X_test_features)\n",
        "accuracy_on_test_data = accuracy_score(y_test, prediction_on_test_data)\n",
        "\n",
        "print(\"--- Model Performance ---\")\n",
        "print(f'Accuracy on training data: {accuracy_on_train_data:.4f}')\n",
        "print(f'Accuracy on test data: {accuracy_on_test_data:.4f}\\n')\n",
        "\n",
        "print(\"--- Classification Report ---\")\n",
        "print(classification_report(y_test, prediction_on_test_data, target_names=['Ham (Not Spam)', 'Spam']))\n",
        "\n",
        "print(\"--- Confusion Matrix ---\")\n",
        "conf_matrix = confusion_matrix(y_test, prediction_on_test_data)\n",
        "print(pd.DataFrame(conf_matrix, index=['Actual Ham', 'Actual Spam'], columns=['Predicted Ham', 'Predicted Spam']))\n",
        "print(\"\\n\" + \"=\"*50 + \"\\n\")\n",
        "\n",
        "def predict_email(email_text):\n",
        "    input_features = vectorizer.transform([email_text])\n",
        "    prediction = model.predict(input_features)\n",
        "    if prediction[0] == 1:\n",
        "        return \"Prediction: This looks like SPAM.\"\n",
        "    else:\n",
        "        return \"Prediction: This looks like a legitimate email (HAM).\"\n",
        "\n",
        "print(\"--- Spam Detector in Action ---\")\n",
        "spam_email = \"Congratulations! You've won a $1000 Walmart gift card. Go to http://bit.ly/scam-link to claim now.\"\n",
        "print(f\"Email: '{spam_email}'\")\n",
        "print(f\"{predict_email(spam_email)}\\n\")\n",
        "\n",
        "ham_email = \"Hey, are we still on for the meeting tomorrow at 2 PM? Let me know.\"\n",
        "print(f\"Email: '{ham_email}'\")\n",
        "print(f\"{predict_email(ham_email)}\\n\")\n",
        "\n",
        "spam_email_2 = \"URGENT: Your account has been compromised. Please verify your details immediately to avoid suspension.\"\n",
        "print(f\"Email: '{spam_email_2}'\")\n",
        "print(f\"{predict_email(spam_email_2)}\\n\")\n"
      ]
    }
  ]
}